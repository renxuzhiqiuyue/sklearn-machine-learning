{
 "cells": [
  {
   "cell_type": "code",
   "execution_count": 25,
   "metadata": {},
   "outputs": [],
   "source": [
    "# 添加其他环境的包\n",
    "import sys\n",
    "sys.path.append('D:\\\\Anaconda3\\\\Lib\\\\site-packages')\n",
    "sys.path.append('D:\\\\Anaconda3\\\\envs\\\\pytorch\\\\Lib\\\\site-packages')\n",
    "sys.path.append('D:\\\\Anaconda3\\\\envs\\\\python37\\\\Lib\\\\site-packages')"
   ]
  },
  {
   "cell_type": "code",
   "execution_count": 26,
   "metadata": {},
   "outputs": [],
   "source": [
    "#from sklearn.cross_validation import train_test_split\n",
    "from sklearn.datasets import load_iris\n",
    "iris = load_iris()\n",
    "train_data, train_target= iris.data, iris.target\n",
    "#train_data,test_data,train_target,test_target=train_test_split(iris.data,iris.target,test_size=0.2,random_state=1)"
   ]
  },
  {
   "cell_type": "code",
   "execution_count": 32,
   "metadata": {},
   "outputs": [
    {
     "data": {
      "text/plain": [
       "array([[5.1, 3.5, 1.4, 0.2],\n",
       "       [4.9, 3. , 1.4, 0.2],\n",
       "       [4.7, 3.2, 1.3, 0.2]])"
      ]
     },
     "execution_count": 32,
     "metadata": {},
     "output_type": "execute_result"
    }
   ],
   "source": [
    "train_data[:3]"
   ]
  },
  {
   "cell_type": "code",
   "execution_count": 27,
   "metadata": {},
   "outputs": [],
   "source": [
    "from sklearn import tree\n",
    "\n",
    "clf = tree.DecisionTreeClassifier()\n",
    "clf = clf.fit(train_data, train_target)"
   ]
  },
  {
   "cell_type": "code",
   "execution_count": 29,
   "metadata": {},
   "outputs": [],
   "source": [
    "import graphviz \n",
    "dot_data = tree.export_graphviz(clf, out_file=\"D:\\\\a.pdf\") \n",
    "graph = graphviz.Source(dot_data) \n",
    "#graph.render(\"iris\")"
   ]
  },
  {
   "cell_type": "code",
   "execution_count": 38,
   "metadata": {},
   "outputs": [],
   "source": []
  },
  {
   "cell_type": "code",
   "execution_count": null,
   "metadata": {},
   "outputs": [],
   "source": [
    "dot_data = tree.export_graphviz(clf, out_file=None,\n",
    "                                feature_names=dataSet.columns[:-1], # 特征名称\n",
    "                                class_names=['No', 'Yes'], # 目标变量的类别名\n",
    "                                filled=True, rounded=True,\n",
    "                                special_characters=True)"
   ]
  },
  {
   "cell_type": "code",
   "execution_count": 40,
   "metadata": {},
   "outputs": [],
   "source": [
    "#画图方法1-生成dot文件， 不支持中文字符\n",
    "with open('D:\\\\treeone.dot', 'w') as f:\n",
    "    dot_data = tree.export_graphviz(clf, out_file=None,\n",
    "                                feature_names=[\"name1\", \"name2\", \"name3\", \"name4\"],\n",
    "                                filled=True, rounded=True,\n",
    "                                special_characters=True)\n",
    "    f.write(dot_data)\n",
    "    f.close()\n",
    "# cmd打开所在目录，执行dot -Tpdf treeone.dot -o treeone.pdf "
   ]
  },
  {
   "cell_type": "code",
   "execution_count": null,
   "metadata": {},
   "outputs": [],
   "source": []
  },
  {
   "cell_type": "code",
   "execution_count": null,
   "metadata": {},
   "outputs": [],
   "source": [
    "#画图方法2-生成pdf文件, 未实现\n",
    "import pydotplus\n",
    " \n",
    "dot_data = tree.export_graphviz(clf, out_file=None,feature_names=clf.feature_importances_,\n",
    " \n",
    "filled=True, rounded=True, special_characters=True)\n",
    " \n",
    "graph = pydotplus.graph_from_dot_data(dot_data)\n",
    " \n",
    "###保存图像到pdf文件\n",
    " \n",
    "graph.write_pdf(\"D:\\\\treetwo.pdf\")"
   ]
  },
  {
   "cell_type": "code",
   "execution_count": null,
   "metadata": {},
   "outputs": [],
   "source": [
    "import graphviz \n",
    "dot_data = tree.export_graphviz(clf, out_file=None, \n",
    "                         feature_names=iris.feature_names,  \n",
    "                         class_names=iris.target_names,  \n",
    "                         filled=True, rounded=True,  \n",
    "                         special_characters=True)  \n",
    "graph = graphviz.Source(dot_data)  \n",
    "graph"
   ]
  }
 ],
 "metadata": {
  "kernelspec": {
   "display_name": "Python 3",
   "language": "python",
   "name": "python3"
  },
  "language_info": {
   "codemirror_mode": {
    "name": "ipython",
    "version": 3
   },
   "file_extension": ".py",
   "mimetype": "text/x-python",
   "name": "python",
   "nbconvert_exporter": "python",
   "pygments_lexer": "ipython3",
   "version": "3.7.3"
  }
 },
 "nbformat": 4,
 "nbformat_minor": 2
}
