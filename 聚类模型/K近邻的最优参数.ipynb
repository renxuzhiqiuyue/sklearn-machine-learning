{
 "cells": [
  {
   "cell_type": "code",
   "execution_count": 15,
   "metadata": {},
   "outputs": [],
   "source": [
    "# 引入数据集，sklearn包含众多数据集\n",
    "from sklearn import datasets\n",
    "# 将数据分为测试集和训练集\n",
    "from sklearn.model_selection import train_test_split\n",
    "# 利用邻近点方式训练数据\n",
    "from sklearn.neighbors import KNeighborsClassifier #一个简单的模型，只有K一个参数，类似K-means\n",
    "#划分数据 交叉验证\n",
    "from sklearn.model_selection import train_test_split,cross_val_score\n",
    "\n",
    "import matplotlib.pyplot as plt\n",
    "import numpy as np"
   ]
  },
  {
   "cell_type": "code",
   "execution_count": 10,
   "metadata": {},
   "outputs": [
    {
     "name": "stdout",
     "output_type": "stream",
     "text": [
      "特征变量的长度 150\n",
      "鸢尾花的目标值 [0 0 0 0 0 0 0 0 0 0 0 0 0 0 0 0 0 0 0 0 0 0 0 0 0 0 0 0 0 0 0 0 0 0 0 0 0\n",
      " 0 0 0 0 0 0 0 0 0 0 0 0 0 1 1 1 1 1 1 1 1 1 1 1 1 1 1 1 1 1 1 1 1 1 1 1 1\n",
      " 1 1 1 1 1 1 1 1 1 1 1 1 1 1 1 1 1 1 1 1 1 1 1 1 1 1 2 2 2 2 2 2 2 2 2 2 2\n",
      " 2 2 2 2 2 2 2 2 2 2 2 2 2 2 2 2 2 2 2 2 2 2 2 2 2 2 2 2 2 2 2 2 2 2 2 2 2\n",
      " 2 2]\n",
      "[0 1 2 1 2 1 2 1 0 0 0 1 2 2 2 0 2 2 2 1 0 2 1 1 2 0 1 1 2 1 2 0 1 2 0 1 2\n",
      " 2 1 0 2 1 1 1 0 2 0 0 2 0 2 2 0 0 2 0 1 1 2 2 0 2 2 1 1 2 0 1 2 1 2 2 2 0\n",
      " 2 1 1 2 2 0 2 0 2 1 1 2 2 2 0 0 0 1 2 0 2 1 2 1 0 0 0 1 1 0 0]\n"
     ]
    }
   ],
   "source": [
    "# 引入数据,本次导入鸢尾花数据，iris数据包含4个特征变量\n",
    "iris = datasets.load_iris()\n",
    "# 特征变量\n",
    "iris_X = iris.data\n",
    "# print(iris_X)\n",
    "print('特征变量的长度',len(iris_X))\n",
    "# 目标值\n",
    "iris_y = iris.target\n",
    "print('鸢尾花的目标值',iris_y)\n",
    "# 利用train_test_split进行训练集和测试机进行分开，test_size占30%\n",
    "X_train,X_test,y_train,y_test=train_test_split(iris_X,iris_y,test_size=0.3)\n",
    "# 我们看到训练数据的特征值分为3类\n",
    "print(y_train)"
   ]
  },
  {
   "cell_type": "code",
   "execution_count": 21,
   "metadata": {},
   "outputs": [],
   "source": [
    "k_range = range(1,50)\n",
    "cv_scores = []\t\t#用来放每个模型的结果值"
   ]
  },
  {
   "cell_type": "code",
   "execution_count": 22,
   "metadata": {},
   "outputs": [],
   "source": [
    "for n in k_range:\n",
    "    knn = KNeighborsClassifier(n)   #knn模型，这里一个超参数可以做预测，当多个超参数时需要使用另一种方法GridSearchCV\n",
    "    #cv：选择每次测试折数  accuracy：评价指标是准确度,可以省略使用默认值\n",
    "    scores = cross_val_score(knn,X_train,y_train,cv=10,scoring='accuracy')  \n",
    "    cv_scores.append(scores.mean())"
   ]
  },
  {
   "cell_type": "code",
   "execution_count": 23,
   "metadata": {},
   "outputs": [
    {
     "data": {
      "image/png": "[encoded data removed]",
      "text/plain": [
       "<Figure size 432x288 with 1 Axes>"
      ]
     },
     "metadata": {
      "needs_background": "light"
     },
     "output_type": "display_data"
    }
   ],
   "source": [
    "plt.plot(k_range,cv_scores)\n",
    "plt.xlabel('K')\n",
    "plt.ylabel('Accuracy')\t\t#通过图像选择最好的参数\n",
    "plt.show()"
   ]
  },
  {
   "cell_type": "code",
   "execution_count": 24,
   "metadata": {},
   "outputs": [
    {
     "name": "stdout",
     "output_type": "stream",
     "text": [
      "最优的近邻数目 44\n"
     ]
    }
   ],
   "source": [
    "best_neighbors = np.argmin(cv_scores)\n",
    "print('最优的近邻数目', best_neighbors)"
   ]
  },
  {
   "cell_type": "code",
   "execution_count": 29,
   "metadata": {},
   "outputs": [
    {
     "name": "stdout",
     "output_type": "stream",
     "text": [
      "0.8888888888888888\n",
      "{'algorithm': 'auto', 'leaf_size': 30, 'metric': 'minkowski', 'metric_params': None, 'n_jobs': None, 'n_neighbors': 44, 'p': 2, 'weights': 'uniform'}\n",
      "预测得分为：0.9111111111111111\n"
     ]
    }
   ],
   "source": [
    "best_knn = KNeighborsClassifier(n_neighbors=best_neighbors)\t# 选择最优的K=3传入模型\n",
    "best_knn.fit(X_train, y_train)\t\t\t#训练模型\n",
    "print(best_knn.score(X_test, y_test))\t#看看评分\n",
    "\n",
    "params = best_knn.get_params()\n",
    "print(params)\n",
    "'''\n",
    "{'algorithm': 'auto', 'leaf_size': 30, 'metric': 'minkowski',\n",
    " 'metric_params': None, 'n_jobs': None, 'n_neighbors': 5,\n",
    " 'p': 2, 'weights': 'uniform'}\n",
    " \n",
    "'''\n",
    " \n",
    "score = knn.score(X_test,y_test)\n",
    "print(\"预测得分为：%s\"%score)"
   ]
  }
 ],
 "metadata": {
  "kernelspec": {
   "display_name": "Python 3",
   "language": "python",
   "name": "python3"
  },
  "language_info": {
   "codemirror_mode": {
    "name": "ipython",
    "version": 3
   },
   "file_extension": ".py",
   "mimetype": "text/x-python",
   "name": "python",
   "nbconvert_exporter": "python",
   "pygments_lexer": "ipython3",
   "version": "3.7.6"
  }
 },
 "nbformat": 4,
 "nbformat_minor": 4
}
