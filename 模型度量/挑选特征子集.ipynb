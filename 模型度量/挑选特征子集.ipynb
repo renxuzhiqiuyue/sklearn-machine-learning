{
 "cells": [
  {
   "cell_type": "code",
   "execution_count": 25,
   "metadata": {},
   "outputs": [],
   "source": [
    "import numpy as np\n",
    "X = np.random.randn(10000).reshape(100, 100)\n",
    "y = np.floor(np.random.uniform(0, 2, 100))"
   ]
  },
  {
   "cell_type": "code",
   "execution_count": 31,
   "metadata": {},
   "outputs": [
    {
     "name": "stderr",
     "output_type": "stream",
     "text": [
      "C:\\Users\\asus\\Anaconda3\\lib\\site-packages\\ipykernel_launcher.py:3: UserWarning: Pandas doesn't allow columns to be created via a new attribute name - see https://pandas.pydata.org/pandas-docs/stable/indexing.html#attribute-access\n",
      "  This is separate from the ipykernel package so we can avoid doing imports until\n"
     ]
    }
   ],
   "source": [
    "import pandas as pd\n",
    "X = pd.DataFrame(X)\n",
    "X.colmuns = range(100)"
   ]
  },
  {
   "cell_type": "code",
   "execution_count": 32,
   "metadata": {},
   "outputs": [
    {
     "data": {
      "text/html": [
       "<div>\n",
       "<style scoped>\n",
       "    .dataframe tbody tr th:only-of-type {\n",
       "        vertical-align: middle;\n",
       "    }\n",
       "\n",
       "    .dataframe tbody tr th {\n",
       "        vertical-align: top;\n",
       "    }\n",
       "\n",
       "    .dataframe thead th {\n",
       "        text-align: right;\n",
       "    }\n",
       "</style>\n",
       "<table border=\"1\" class=\"dataframe\">\n",
       "  <thead>\n",
       "    <tr style=\"text-align: right;\">\n",
       "      <th></th>\n",
       "      <th>0</th>\n",
       "      <th>1</th>\n",
       "      <th>2</th>\n",
       "      <th>3</th>\n",
       "      <th>4</th>\n",
       "      <th>5</th>\n",
       "      <th>6</th>\n",
       "      <th>7</th>\n",
       "      <th>8</th>\n",
       "      <th>9</th>\n",
       "      <th>...</th>\n",
       "      <th>90</th>\n",
       "      <th>91</th>\n",
       "      <th>92</th>\n",
       "      <th>93</th>\n",
       "      <th>94</th>\n",
       "      <th>95</th>\n",
       "      <th>96</th>\n",
       "      <th>97</th>\n",
       "      <th>98</th>\n",
       "      <th>99</th>\n",
       "    </tr>\n",
       "  </thead>\n",
       "  <tbody>\n",
       "    <tr>\n",
       "      <th>0</th>\n",
       "      <td>-0.284385</td>\n",
       "      <td>-0.069825</td>\n",
       "      <td>0.284738</td>\n",
       "      <td>-0.752948</td>\n",
       "      <td>0.349826</td>\n",
       "      <td>-0.163748</td>\n",
       "      <td>-0.425376</td>\n",
       "      <td>-0.753337</td>\n",
       "      <td>0.031751</td>\n",
       "      <td>0.335536</td>\n",
       "      <td>...</td>\n",
       "      <td>-0.893156</td>\n",
       "      <td>-0.875552</td>\n",
       "      <td>0.956198</td>\n",
       "      <td>-1.618249</td>\n",
       "      <td>0.075045</td>\n",
       "      <td>-2.098033</td>\n",
       "      <td>-0.630941</td>\n",
       "      <td>0.151300</td>\n",
       "      <td>0.246968</td>\n",
       "      <td>-0.632792</td>\n",
       "    </tr>\n",
       "    <tr>\n",
       "      <th>1</th>\n",
       "      <td>-0.575526</td>\n",
       "      <td>0.842174</td>\n",
       "      <td>-0.534870</td>\n",
       "      <td>-0.965309</td>\n",
       "      <td>0.352672</td>\n",
       "      <td>1.240350</td>\n",
       "      <td>-1.816404</td>\n",
       "      <td>0.246665</td>\n",
       "      <td>-1.979540</td>\n",
       "      <td>-0.173514</td>\n",
       "      <td>...</td>\n",
       "      <td>0.894468</td>\n",
       "      <td>-0.256536</td>\n",
       "      <td>-0.322760</td>\n",
       "      <td>1.646252</td>\n",
       "      <td>0.779893</td>\n",
       "      <td>-1.084472</td>\n",
       "      <td>-0.200123</td>\n",
       "      <td>0.680591</td>\n",
       "      <td>-0.234346</td>\n",
       "      <td>0.085812</td>\n",
       "    </tr>\n",
       "    <tr>\n",
       "      <th>2</th>\n",
       "      <td>0.260345</td>\n",
       "      <td>-1.719107</td>\n",
       "      <td>-1.318798</td>\n",
       "      <td>-1.274770</td>\n",
       "      <td>-1.758525</td>\n",
       "      <td>0.865388</td>\n",
       "      <td>0.460007</td>\n",
       "      <td>-0.610226</td>\n",
       "      <td>1.531732</td>\n",
       "      <td>0.901999</td>\n",
       "      <td>...</td>\n",
       "      <td>-1.678902</td>\n",
       "      <td>0.807168</td>\n",
       "      <td>-0.086187</td>\n",
       "      <td>-0.945953</td>\n",
       "      <td>0.132720</td>\n",
       "      <td>0.391762</td>\n",
       "      <td>-1.658642</td>\n",
       "      <td>0.380555</td>\n",
       "      <td>-1.193959</td>\n",
       "      <td>0.077103</td>\n",
       "    </tr>\n",
       "    <tr>\n",
       "      <th>3</th>\n",
       "      <td>2.301515</td>\n",
       "      <td>-1.269553</td>\n",
       "      <td>1.849453</td>\n",
       "      <td>-0.093893</td>\n",
       "      <td>1.902646</td>\n",
       "      <td>0.430922</td>\n",
       "      <td>0.482804</td>\n",
       "      <td>0.384996</td>\n",
       "      <td>0.721514</td>\n",
       "      <td>-1.226935</td>\n",
       "      <td>...</td>\n",
       "      <td>-0.682480</td>\n",
       "      <td>-1.154709</td>\n",
       "      <td>-2.402467</td>\n",
       "      <td>-1.475353</td>\n",
       "      <td>-1.421135</td>\n",
       "      <td>-1.102360</td>\n",
       "      <td>1.117381</td>\n",
       "      <td>0.388573</td>\n",
       "      <td>0.411764</td>\n",
       "      <td>0.381833</td>\n",
       "    </tr>\n",
       "    <tr>\n",
       "      <th>4</th>\n",
       "      <td>0.642067</td>\n",
       "      <td>-1.151502</td>\n",
       "      <td>1.332994</td>\n",
       "      <td>-1.073370</td>\n",
       "      <td>0.124428</td>\n",
       "      <td>-0.447967</td>\n",
       "      <td>1.626735</td>\n",
       "      <td>-0.326874</td>\n",
       "      <td>-0.995912</td>\n",
       "      <td>1.310935</td>\n",
       "      <td>...</td>\n",
       "      <td>0.731702</td>\n",
       "      <td>-0.496959</td>\n",
       "      <td>0.572802</td>\n",
       "      <td>0.661010</td>\n",
       "      <td>-2.387142</td>\n",
       "      <td>1.088603</td>\n",
       "      <td>0.115181</td>\n",
       "      <td>0.261115</td>\n",
       "      <td>0.218188</td>\n",
       "      <td>0.126067</td>\n",
       "    </tr>\n",
       "  </tbody>\n",
       "</table>\n",
       "<p>5 rows × 100 columns</p>\n",
       "</div>"
      ],
      "text/plain": [
       "         0         1         2         3         4         5         6   \\\n",
       "0 -0.284385 -0.069825  0.284738 -0.752948  0.349826 -0.163748 -0.425376   \n",
       "1 -0.575526  0.842174 -0.534870 -0.965309  0.352672  1.240350 -1.816404   \n",
       "2  0.260345 -1.719107 -1.318798 -1.274770 -1.758525  0.865388  0.460007   \n",
       "3  2.301515 -1.269553  1.849453 -0.093893  1.902646  0.430922  0.482804   \n",
       "4  0.642067 -1.151502  1.332994 -1.073370  0.124428 -0.447967  1.626735   \n",
       "\n",
       "         7         8         9   ...        90        91        92        93  \\\n",
       "0 -0.753337  0.031751  0.335536  ... -0.893156 -0.875552  0.956198 -1.618249   \n",
       "1  0.246665 -1.979540 -0.173514  ...  0.894468 -0.256536 -0.322760  1.646252   \n",
       "2 -0.610226  1.531732  0.901999  ... -1.678902  0.807168 -0.086187 -0.945953   \n",
       "3  0.384996  0.721514 -1.226935  ... -0.682480 -1.154709 -2.402467 -1.475353   \n",
       "4 -0.326874 -0.995912  1.310935  ...  0.731702 -0.496959  0.572802  0.661010   \n",
       "\n",
       "         94        95        96        97        98        99  \n",
       "0  0.075045 -2.098033 -0.630941  0.151300  0.246968 -0.632792  \n",
       "1  0.779893 -1.084472 -0.200123  0.680591 -0.234346  0.085812  \n",
       "2  0.132720  0.391762 -1.658642  0.380555 -1.193959  0.077103  \n",
       "3 -1.421135 -1.102360  1.117381  0.388573  0.411764  0.381833  \n",
       "4 -2.387142  1.088603  0.115181  0.261115  0.218188  0.126067  \n",
       "\n",
       "[5 rows x 100 columns]"
      ]
     },
     "execution_count": 32,
     "metadata": {},
     "output_type": "execute_result"
    }
   ],
   "source": [
    "X.head()"
   ]
  },
  {
   "cell_type": "markdown",
   "metadata": {},
   "source": [
    "# 一、scikit-learn中树算法"
   ]
  },
  {
   "cell_type": "code",
   "execution_count": 21,
   "metadata": {},
   "outputs": [],
   "source": [
    "from sklearn import metrics\n",
    "from sklearn.ensemble import ExtraTreesClassifier\n",
    "model = ExtraTreesClassifier()"
   ]
  },
  {
   "cell_type": "code",
   "execution_count": 22,
   "metadata": {},
   "outputs": [
    {
     "name": "stdout",
     "output_type": "stream",
     "text": [
      "[0.01550405 0.00924798 0.00878009 0.00597553 0.01016925 0.00915028\n",
      " 0.00949347 0.01142367 0.00982796 0.01554886 0.00779507 0.008017\n",
      " 0.00957713 0.00711539 0.01362321 0.00623502 0.01734913 0.00846494\n",
      " 0.00781846 0.00621753 0.00893169 0.02255772 0.01395344 0.01176637\n",
      " 0.01099962 0.00577555 0.01281543 0.0106026  0.01173355 0.01463866\n",
      " 0.0110022  0.00560212 0.00819476 0.00957876 0.0128636  0.00574975\n",
      " 0.00750202 0.00792955 0.01078001 0.00403791 0.00957406 0.00964473\n",
      " 0.00767621 0.00905706 0.01047778 0.00869599 0.01174337 0.00787922\n",
      " 0.00961259 0.00707236 0.00899453 0.0088671  0.00718371 0.01281138\n",
      " 0.0110408  0.00625079 0.01604461 0.00815894 0.0113668  0.00701234\n",
      " 0.00716176 0.01002502 0.00951226 0.0084228  0.0097567  0.00728835\n",
      " 0.01247004 0.00380741 0.00886343 0.01101012 0.00742713 0.01168707\n",
      " 0.01294176 0.01380887 0.0144604  0.0282857  0.0109253  0.01162493\n",
      " 0.01092298 0.00748974 0.01079496 0.00972387 0.00970121 0.00995962\n",
      " 0.00712969 0.01072807 0.01074593 0.01096554 0.00637318 0.01256932\n",
      " 0.01168917 0.00759823 0.01009004 0.0069917  0.00947076 0.00742006\n",
      " 0.01344509 0.00853537 0.00801115 0.00665152]\n"
     ]
    }
   ],
   "source": [
    "model.fit(X, y)\n",
    "# display the relative importance of each attribute\n",
    "print(model.feature_importances_)"
   ]
  },
  {
   "cell_type": "markdown",
   "metadata": {},
   "source": [
    "# 二、RFE搜索算法"
   ]
  },
  {
   "cell_type": "markdown",
   "metadata": {},
   "source": [
    "另一种算法是基于对特征子集的高效搜索，从而找到最好的子集，意味着演化了的模型在这个子集上有最好的质量。递归特征消除算法（RFE）是这些搜索算法的其中之一，Scikit-Learn库同样也有提供。"
   ]
  },
  {
   "cell_type": "code",
   "execution_count": 23,
   "metadata": {},
   "outputs": [],
   "source": [
    "from sklearn.feature_selection import RFE\n",
    "from sklearn.linear_model import LogisticRegression\n",
    "model = LogisticRegression()"
   ]
  },
  {
   "cell_type": "code",
   "execution_count": 26,
   "metadata": {},
   "outputs": [
    {
     "name": "stderr",
     "output_type": "stream",
     "text": [
      "C:\\Users\\asus\\Anaconda3\\lib\\site-packages\\sklearn\\utils\\validation.py:71: FutureWarning: Pass n_features_to_select=3 as keyword args. From version 0.25 passing these as positional arguments will result in an error\n",
      "  FutureWarning)\n"
     ]
    },
    {
     "name": "stdout",
     "output_type": "stream",
     "text": [
      "[False  True False False False False False False False False False False\n",
      " False False False False False False False False False False False False\n",
      " False False  True False False False False False False False False False\n",
      " False False False False False False False False False False False False\n",
      " False False False False False False False False False False False False\n",
      " False False False False False False False False False False False False\n",
      " False False False False False False False False False False  True False\n",
      " False False False False False False False False False False False False\n",
      " False False False False]\n",
      "[32  1 18 98 95 16 81 44 42  2 28 15 97  5 88 76 38 19 85 82 54 11 22 84\n",
      " 68 73  1 52 67 89 27 45 75 91  7 71 37 77 87 59 14  3 41 47 49 83 69 79\n",
      " 58 57 36 93 72 50 55 51 23 64 39 53 70 20 62 35 33 92 34 96  9 12 43  4\n",
      " 86 13 60 74 80 21 90 78 48 24  1 29 31 56 30 46 25 94 63 40  8 65 10 66\n",
      "  6 17 61 26]\n"
     ]
    }
   ],
   "source": [
    "# create the RFE model and select 3 attributes\n",
    "rfe = RFE(model, 3)\n",
    "rfe = rfe.fit(X, y)\n",
    "# summarize the selection of the attributes\n",
    "print(rfe.support_)\n",
    "print(rfe.ranking_)"
   ]
  },
  {
   "cell_type": "markdown",
   "metadata": {},
   "source": [
    "# 三、利用LassoCV进行特征选择"
   ]
  },
  {
   "cell_type": "code",
   "execution_count": 27,
   "metadata": {},
   "outputs": [],
   "source": [
    "#!/usr/bin/python\n",
    " \n",
    "import pandas as pd\n",
    "import numpy as np\n",
    "import csv as csv\n",
    "import matplotlib\n",
    "import matplotlib.pyplot as plt\n",
    "from sklearn.linear_model import Ridge, RidgeCV, ElasticNet, LassoCV, LassoLarsCV\n",
    "from sklearn.model_selection import cross_val_score"
   ]
  },
  {
   "cell_type": "code",
   "execution_count": 64,
   "metadata": {},
   "outputs": [],
   "source": [
    "train = pd.read_csv('D:\\\\data\\datastart.csv', header=0)        # Load the train file into a dataframe\n",
    "X = train[train.columns[4:]]\n",
    "\n",
    "y = np.array(train['y']).reshape(-1,1)"
   ]
  },
  {
   "cell_type": "code",
   "execution_count": 65,
   "metadata": {},
   "outputs": [],
   "source": [
    "# 分割数据集\n",
    "from sklearn.model_selection import train_test_split\n",
    "X_train,X_test,y_train,y_test=train_test_split(X,y,test_size=0.3)\n",
    "\n",
    "from sklearn import preprocessing\n",
    "\n",
    "# 1. 基于mean和std的标准化\n",
    "scaler = preprocessing.StandardScaler().fit(X_train)\n",
    "train_data = scaler.transform(X_train)\n",
    "test_data = scaler.transform(X_test)\n",
    "\n",
    "scaler = preprocessing.StandardScaler().fit(y_train)\n",
    "train_y = scaler.transform(y_train)\n",
    "test_y = scaler.transform(y_test)"
   ]
  },
  {
   "cell_type": "code",
   "execution_count": 73,
   "metadata": {},
   "outputs": [],
   "source": [
    "def rmse_cv(model):\n",
    "    rmse= np.sqrt(-cross_val_score(model, train_data, train_y.ravel(), scoring=\"neg_mean_squared_error\", cv = 3))\n",
    "    return(rmse)\n",
    "\n",
    "#调用LassoCV函数，并进行交叉验证，默认cv=3\n",
    "model_lasso = LassoCV(alphas = [0.1,1,0.001, 0.0005]).fit(train_data, train_y.ravel())"
   ]
  },
  {
   "cell_type": "code",
   "execution_count": 74,
   "metadata": {},
   "outputs": [
    {
     "name": "stdout",
     "output_type": "stream",
     "text": [
      "0.0005\n",
      "[ 0.55605034  0.34832439  0.51436818  0.03227944  0.24693111 -0.10680498\n",
      "  0.07202839  0.38067335  0.07983973 -0.6106806  -0.49068157  0.01620156\n",
      "  0.0049026   0.        ]\n",
      "Lasso picked 13 variables and eliminated the other 1 variables\n",
      "0.6281486222878435\n"
     ]
    }
   ],
   "source": [
    "#模型所选择的最优正则化参数alpha\n",
    "print(model_lasso.alpha_)\n",
    "\n",
    "#各特征列的参数值或者说权重参数，为0代表该特征被模型剔除了\n",
    "print(model_lasso.coef_)\n",
    "\n",
    "#输出看模型最终选择了几个特征向量，剔除了几个特征向量\n",
    "coef = pd.Series(model_lasso.coef_, index = X.columns)\n",
    "print(\"Lasso picked \" + str(sum(coef != 0)) + \" variables and eliminated the other \" +  str(sum(coef == 0)) + \" variables\")\n",
    "\n",
    "#输出所选择的最优正则化参数情况下的残差平均值，因为是3折，所以看平均值\n",
    "print(rmse_cv(model_lasso).mean())"
   ]
  },
  {
   "cell_type": "code",
   "execution_count": 75,
   "metadata": {},
   "outputs": [
    {
     "data": {
      "image/png": "[encoded data removed]",
      "text/plain": [
       "<Figure size 576x720 with 1 Axes>"
      ]
     },
     "metadata": {
      "needs_background": "light"
     },
     "output_type": "display_data"
    }
   ],
   "source": [
    "#画出特征变量的重要程度，这里面选出前3个重要，后3个不重要的举例\n",
    "imp_coef = pd.concat([coef.sort_values().head(3),\n",
    "                     coef.sort_values().tail(3)])\n",
    "\n",
    "matplotlib.rcParams['figure.figsize'] = (8.0, 10.0)\n",
    "imp_coef.plot(kind = \"barh\")\n",
    "plt.title(\"Coefficients in the Lasso Model\")\n",
    "plt.show()"
   ]
  },
  {
   "cell_type": "markdown",
   "metadata": {},
   "source": [
    "# 四、利用图表分析特征以及特征间的关系"
   ]
  },
  {
   "cell_type": "code",
   "execution_count": 76,
   "metadata": {},
   "outputs": [],
   "source": [
    "# 略"
   ]
  },
  {
   "cell_type": "markdown",
   "metadata": {},
   "source": [
    "# 五、逐步回归"
   ]
  }
 ],
 "metadata": {
  "kernelspec": {
   "display_name": "Python 3",
   "language": "python",
   "name": "python3"
  },
  "language_info": {
   "codemirror_mode": {
    "name": "ipython",
    "version": 3
   },
   "file_extension": ".py",
   "mimetype": "text/x-python",
   "name": "python",
   "nbconvert_exporter": "python",
   "pygments_lexer": "ipython3",
   "version": "3.7.6"
  }
 },
 "nbformat": 4,
 "nbformat_minor": 4
}
