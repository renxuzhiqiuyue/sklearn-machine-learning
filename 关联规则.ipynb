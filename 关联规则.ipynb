{
 "cells": [
  {
   "cell_type": "code",
   "execution_count": 2,
   "metadata": {},
   "outputs": [
    {
     "name": "stdout",
     "output_type": "stream",
     "text": [
      "   support   itemsets\n",
      "0      0.8       (泡面)\n",
      "1      0.8       (鸡蛋)\n",
      "2      0.8       (烤肠)\n",
      "3      0.6      (炸鸡腿)\n",
      "4      0.6   (鸡蛋, 泡面)\n",
      "5      0.6   (烤肠, 泡面)\n",
      "6      0.6   (烤肠, 鸡蛋)\n",
      "7      0.6  (烤肠, 炸鸡腿)\n"
     ]
    }
   ],
   "source": [
    "# 使用包\n",
    "from mlxtend.frequent_patterns import apriori\n",
    "from mlxtend.frequent_patterns import association_rules\n",
    "\n",
    "import pandas as pd\n",
    "data_set_df = pd.DataFrame([[True, True, False, False, False, False],\n",
    "            [True, False, True, True, True, False], \n",
    "            [False, True, True, True, False, True],\n",
    "            [True, True, True, True, False, False],\n",
    "            [True, True, True, False, False, True]], columns= ['泡面', '鸡蛋', '烤肠', '炸鸡腿', '辣条', '快乐水'])\n",
    "\n",
    "frequent = apriori(data_set_df, min_support=0.6, use_colnames= True, max_len= 5)\n",
    "print (frequent)"
   ]
  },
  {
   "cell_type": "code",
   "execution_count": 3,
   "metadata": {},
   "outputs": [
    {
     "name": "stdout",
     "output_type": "stream",
     "text": [
      "Help on function apriori in module mlxtend.frequent_patterns.apriori:\n",
      "\n",
      "apriori(df, min_support=0.5, use_colnames=False, max_len=None, verbose=0, low_memory=False)\n",
      "    Get frequent itemsets from a one-hot DataFrame\n",
      "    \n",
      "    Parameters\n",
      "    -----------\n",
      "    df : pandas DataFrame\n",
      "      pandas DataFrame the encoded format. Also supports\n",
      "      DataFrames with sparse data; for more info, please\n",
      "      see (https://pandas.pydata.org/pandas-docs/stable/\n",
      "           user_guide/sparse.html#sparse-data-structures)\n",
      "    \n",
      "      Please note that the old pandas SparseDataFrame format\n",
      "      is no longer supported in mlxtend >= 0.17.2.\n",
      "    \n",
      "      The allowed values are either 0/1 or True/False.\n",
      "      For example,\n",
      "    \n",
      "    ```\n",
      "             Apple  Bananas   Beer  Chicken   Milk   Rice\n",
      "        0     True    False   True     True  False   True\n",
      "        1     True    False   True    False  False   True\n",
      "        2     True    False   True    False  False  False\n",
      "        3     True     True  False    False  False  False\n",
      "        4    False    False   True     True   True   True\n",
      "        5    False    False   True    False   True   True\n",
      "        6    False    False   True    False   True  False\n",
      "        7     True     True  False    False  False  False\n",
      "    ```\n",
      "    \n",
      "    min_support : float (default: 0.5)\n",
      "      A float between 0 and 1 for minumum support of the itemsets returned.\n",
      "      The support is computed as the fraction\n",
      "      `transactions_where_item(s)_occur / total_transactions`.\n",
      "    \n",
      "    use_colnames : bool (default: False)\n",
      "      If `True`, uses the DataFrames' column names in the returned DataFrame\n",
      "      instead of column indices.\n",
      "    \n",
      "    max_len : int (default: None)\n",
      "      Maximum length of the itemsets generated. If `None` (default) all\n",
      "      possible itemsets lengths (under the apriori condition) are evaluated.\n",
      "    \n",
      "    verbose : int (default: 0)\n",
      "      Shows the number of iterations if >= 1 and `low_memory` is `True`. If\n",
      "      >=1 and `low_memory` is `False`, shows the number of combinations.\n",
      "    \n",
      "    low_memory : bool (default: False)\n",
      "      If `True`, uses an iterator to search for combinations above\n",
      "      `min_support`.\n",
      "      Note that while `low_memory=True` should only be used for large dataset\n",
      "      if memory resources are limited, because this implementation is approx.\n",
      "      3-6x slower than the default.\n",
      "    \n",
      "    \n",
      "    Returns\n",
      "    -----------\n",
      "    pandas DataFrame with columns ['support', 'itemsets'] of all itemsets\n",
      "      that are >= `min_support` and < than `max_len`\n",
      "      (if `max_len` is not None).\n",
      "      Each itemset in the 'itemsets' column is of type `frozenset`,\n",
      "      which is a Python built-in type that behaves similarly to\n",
      "      sets except that it is immutable\n",
      "      (For more info, see\n",
      "      https://docs.python.org/3.6/library/stdtypes.html#frozenset).\n",
      "    \n",
      "    Examples\n",
      "    -----------\n",
      "    For usage examples, please see\n",
      "    http://rasbt.github.io/mlxtend/user_guide/frequent_patterns/apriori/\n",
      "\n"
     ]
    }
   ],
   "source": [
    "help(apriori)"
   ]
  }
 ],
 "metadata": {
  "interpreter": {
   "hash": "a8f61be024eba58adef938c9aa1e29e02cb3dece83a5348b1a2dafd16a070453"
  },
  "kernelspec": {
   "display_name": "Python 3.7.11 64-bit ('base': conda)",
   "language": "python",
   "name": "python3"
  },
  "language_info": {
   "codemirror_mode": {
    "name": "ipython",
    "version": 3
   },
   "file_extension": ".py",
   "mimetype": "text/x-python",
   "name": "python",
   "nbconvert_exporter": "python",
   "pygments_lexer": "ipython3",
   "version": "3.7.11"
  },
  "orig_nbformat": 4
 },
 "nbformat": 4,
 "nbformat_minor": 2
}
