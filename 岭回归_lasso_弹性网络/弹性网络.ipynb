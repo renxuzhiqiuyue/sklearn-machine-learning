{
 "cells": [
  {
   "cell_type": "code",
   "execution_count": 1,
   "metadata": {},
   "outputs": [
    {
     "name": "stdout",
     "output_type": "stream",
     "text": [
      "[[4.9 3.  1.4 0.2]\n",
      " [7.2 3.6 6.1 2.5]\n",
      " [6.5 2.8 4.6 1.5]\n",
      " [6.7 3.3 5.7 2.5]\n",
      " [6.9 3.2 5.7 2.3]] \n",
      " [0 2 1 2 2] \n",
      " 测试集: \n",
      " [[6.  2.9 4.5 1.5]\n",
      " [5.1 3.3 1.7 0.5]\n",
      " [4.9 3.1 1.5 0.1]] \n",
      " [1 0 0]\n"
     ]
    }
   ],
   "source": [
    "from sklearn import datasets\n",
    "import numpy as np\n",
    "iris = datasets.load_iris() # 导入数据集\n",
    "X = iris.data # 获得其特征向量\n",
    "y = iris.target # 获得样本label\n",
    "\n",
    "# 分割数据集\n",
    "from sklearn.model_selection import train_test_split\n",
    "X_train,X_test,y_train,y_test=train_test_split(X,y,test_size=0.3)\n",
    "\n",
    "print(X_train[:5], '\\n', y_train[:5,], '\\n','测试集:','\\n', X_test[:3,:], '\\n', y_test[:3] )"
   ]
  },
  {
   "cell_type": "code",
   "execution_count": 2,
   "metadata": {},
   "outputs": [],
   "source": [
    "def fit(X_train, y_train, X_test, model, y_test = None):\n",
    "    # 拟合模型\n",
    "    model.fit(X_train, y_train)\n",
    "    # 模型预测\n",
    "    print(model.predict(X_test))\n",
    "    \n",
    "    # 获得这个模型的参数\n",
    "    print(model.get_params())\n",
    "    # 为模型进行打分\n",
    "    print('model得分(训练集）：',model.score(X_train, y_train)) # 线性回归：R square； 分类问题： acc\n",
    "    if y_test is not None:\n",
    "        print('model得分（测试集）：',model.score(X_test, y_test)) # 线性回归：R square； 分类问题： acc\n",
    "        # 显示综合指标\n",
    "        anwser=model.predict(X_test)\n",
    "        from sklearn.metrics import classification_report,accuracy_score, auc, confusion_matrix, f1_score, precision_score, recall_score\n",
    "        print(classification_report(y_test,anwser))"
   ]
  },
  {
   "cell_type": "code",
   "execution_count": 18,
   "metadata": {},
   "outputs": [
    {
     "name": "stdout",
     "output_type": "stream",
     "text": [
      "[ 1.34054880e+00  1.74666663e-01 -7.58835833e-02 -5.37969141e-02\n",
      "  4.54970079e-02  1.19812206e+00  1.31349359e+00  1.14910123e+00\n",
      " -7.93381616e-02  9.25965238e-01  1.17307796e+00  1.20432956e+00\n",
      " -6.40832666e-02  2.01207031e-02 -7.82909874e-02  1.53780468e+00\n",
      "  1.25942330e+00 -1.84141672e-01  2.99099036e-02  2.03775691e+00\n",
      "  1.97455894e+00  1.82454822e+00  1.99112879e-04  1.76317272e+00\n",
      "  1.17187250e+00  1.93537786e+00  1.11749372e+00 -1.74295274e-01\n",
      "  9.82257798e-01  1.17409478e+00  1.57134240e+00  1.99914290e+00\n",
      "  9.59953316e-01  1.87785299e+00 -1.18187038e-01  1.97492464e+00\n",
      "  1.18918240e+00 -2.22971481e-02  1.58698005e+00  1.03447150e+00\n",
      "  1.69191734e+00  1.41695705e+00  1.68396101e+00  1.82529002e+00\n",
      "  1.06185892e+00]\n",
      "{'copy_X': True, 'fit_intercept': True, 'n_jobs': 1, 'normalize': False, 'positive': False}\n",
      "model得分(训练集）： 0.9270786093348431\n"
     ]
    },
    {
     "name": "stderr",
     "output_type": "stream",
     "text": [
      "D:\\Anaconda3\\lib\\site-packages\\sklearn\\linear_model\\_base.py:155: FutureWarning: 'normalize' was deprecated in version 1.0 and will be removed in 1.2. Please leave the normalize parameter to its default value to silence this warning. The default behavior of this estimator is to not do any normalization. If normalization is needed please use sklearn.preprocessing.StandardScaler instead.\n",
      "  FutureWarning,\n"
     ]
    }
   ],
   "source": [
    "from sklearn.linear_model import LinearRegression\n",
    "\n",
    "model = LinearRegression(fit_intercept=True, normalize=False, \n",
    "    copy_X=True, n_jobs=1)\n",
    "\"\"\"\n",
    "参数\n",
    "---\n",
    "    fit_intercept：是否计算截距。False-模型没有截距\n",
    "    normalize： 当fit_intercept设置为False时，该参数将被忽略。 如果为真，则回归前的回归系数X将通过减去平均值并除以l2-范数而归一化。\n",
    "     n_jobs：指定线程数\n",
    "\"\"\"\n",
    "fit(X_train, y_train, X_test, model)"
   ]
  },
  {
   "cell_type": "code",
   "execution_count": 15,
   "metadata": {},
   "outputs": [
    {
     "name": "stdout",
     "output_type": "stream",
     "text": [
      "[ 1.34056880e+00  1.73702921e-01 -7.48726485e-02 -5.22055261e-02\n",
      "  4.53090773e-02  1.20094475e+00  1.31498605e+00  1.14997322e+00\n",
      " -7.82014304e-02  9.24375212e-01  1.17520975e+00  1.20280974e+00\n",
      " -6.37456620e-02  1.94529554e-02 -7.66655376e-02  1.54173869e+00\n",
      "  1.25771642e+00 -1.81754001e-01  3.07321876e-02  2.03500888e+00\n",
      "  1.97735671e+00  1.82355620e+00 -7.27004277e-06  1.76171316e+00\n",
      "  1.17184517e+00  1.93883695e+00  1.11835327e+00 -1.70991142e-01\n",
      "  9.84335369e-01  1.17453570e+00  1.56982393e+00  2.00335185e+00\n",
      "  9.60514379e-01  1.87823853e+00 -1.16600074e-01  1.97306261e+00\n",
      "  1.18901013e+00 -2.12417234e-02  1.58557335e+00  1.03462038e+00\n",
      "  1.69352248e+00  1.41724421e+00  1.68532902e+00  1.82224465e+00\n",
      "  1.06032425e+00]\n",
      "{'alphas': [0.0001, 0.0005, 0.001, 0.01, 0.1, 1, 10], 'copy_X': True, 'cv': None, 'eps': 0.001, 'fit_intercept': True, 'l1_ratio': [0.3, 0.5, 0.7], 'max_iter': 1000, 'n_alphas': 100, 'n_jobs': 1, 'normalize': 'deprecated', 'positive': False, 'precompute': 'auto', 'random_state': None, 'selection': 'cyclic', 'tol': 0.0001, 'verbose': 0}\n",
      "model得分(训练集）： 0.9270747663554373\n"
     ]
    }
   ],
   "source": [
    "# 弹性网络(lasso + ridge)\n",
    "from sklearn.linear_model import ElasticNetCV\n",
    "# 1  / ( 2  * n_samples)  *  ||y  - Xw ||^ 2_2 + alpha  * l1_ratio  *  ||w ||_1 +  0.5  * alpha  * ( 1  - l1_ratio)  *  ||w ||^ 2_2\n",
    "\n",
    "model = ElasticNetCV(fit_intercept=True,  l1_ratio=0.5, \n",
    "    copy_X=True, n_jobs=1)\n",
    "model = ElasticNetCV(fit_intercept=True, l1_ratio=[0.3, 0.5, 0.7], alphas=[0.0001, 0.0005, 0.001, 0.01, 0.1, 1, 10],\n",
    "    copy_X=True, n_jobs=1)\n",
    "\"\"\"\n",
    "参数\n",
    "---\n",
    "    fit_intercept：是否计算截距。False-模型没有截距\n",
    "    normalize： 当fit_intercept设置为False时，该参数将被忽略。 如果为真，则回归前的回归系数X将通过减去平均值并除以l2-范数而归一化。\n",
    "     n_jobs：指定线程数\n",
    "\"\"\"\n",
    "fit(X_train, y_train, X_test, model)"
   ]
  },
  {
   "cell_type": "code",
   "execution_count": null,
   "metadata": {},
   "outputs": [],
   "source": []
  }
 ],
 "metadata": {
  "interpreter": {
   "hash": "b4e1a2f2bac12f5a1b47306f4f29b4f5464ba2ad8696ba146335c91606ed951d"
  },
  "kernelspec": {
   "display_name": "Python 3.7.11 64-bit ('python37': conda)",
   "language": "python",
   "name": "python3"
  },
  "language_info": {
   "codemirror_mode": {
    "name": "ipython",
    "version": 3
   },
   "file_extension": ".py",
   "mimetype": "text/x-python",
   "name": "python",
   "nbconvert_exporter": "python",
   "pygments_lexer": "ipython3",
   "version": "3.7.11"
  },
  "orig_nbformat": 4
 },
 "nbformat": 4,
 "nbformat_minor": 2
}
